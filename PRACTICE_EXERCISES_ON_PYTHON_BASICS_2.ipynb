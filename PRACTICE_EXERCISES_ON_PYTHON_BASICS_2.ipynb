{
  "nbformat": 4,
  "nbformat_minor": 0,
  "metadata": {
    "colab": {
      "provenance": [],
      "authorship_tag": "ABX9TyM+I4TFma2+WOtYQjE53zH5",
      "include_colab_link": true
    },
    "kernelspec": {
      "name": "python3",
      "display_name": "Python 3"
    },
    "language_info": {
      "name": "python"
    }
  },
  "cells": [
    {
      "cell_type": "markdown",
      "metadata": {
        "id": "view-in-github",
        "colab_type": "text"
      },
      "source": [
        "<a href=\"https://colab.research.google.com/github/anujs2005/Anuja/blob/main/PRACTICE_EXERCISES_ON_PYTHON_BASICS_2.ipynb\" target=\"_parent\"><img src=\"https://colab.research.google.com/assets/colab-badge.svg\" alt=\"Open In Colab\"/></a>"
      ]
    },
    {
      "cell_type": "code",
      "execution_count": 1,
      "metadata": {
        "colab": {
          "base_uri": "https://localhost:8080/"
        },
        "id": "sS-XvQPrbzXp",
        "outputId": "36762855-f339-49cd-971e-37b0c181f1ce"
      },
      "outputs": [
        {
          "output_type": "stream",
          "name": "stdout",
          "text": [
            "Enter a stringassembly\n",
            "a 1\n",
            "s 2\n",
            "e 1\n",
            "m 1\n",
            "b 1\n",
            "l 1\n",
            "y 1\n"
          ]
        }
      ],
      "source": [
        "string=input(\"Enter a string\")\n",
        "L=[]\n",
        "for i in string:\n",
        "  if i not in L:\n",
        "    print(i,string.count(i))\n",
        "    L.append(i)"
      ]
    },
    {
      "cell_type": "code",
      "source": [
        "def maximum()\n",
        "  large=0\n",
        "  for i in range(3):\n",
        "    num=int(input(\"Enter a number:\"))\n",
        "    if num>large:\n",
        "      large=num\n",
        "  print(\"The largest number is \",large)\n",
        "maximum()"
      ],
      "metadata": {
        "colab": {
          "base_uri": "https://localhost:8080/"
        },
        "id": "G_NqNskEcy01",
        "outputId": "fb5c3905-bc6a-447c-dbc9-13f4996b4d03"
      },
      "execution_count": 2,
      "outputs": [
        {
          "output_type": "stream",
          "name": "stdout",
          "text": [
            "Enter a number:34\n",
            "Enter a number:23\n",
            "Enter a number:45\n",
            "The largest number is  45\n"
          ]
        }
      ]
    },
    {
      "cell_type": "code",
      "source": [
        "def exponent(base,power):\n",
        "   print(base**power)\n",
        "base=int(input(\"Enter base\"))\n",
        "power=int(input(\"Enter power\"))\n",
        "exponent(base,power)\n"
      ],
      "metadata": {
        "colab": {
          "base_uri": "https://localhost:8080/"
        },
        "id": "9wM_oyuxdYV-",
        "outputId": "c8dd7797-32c8-4335-d543-dcd183240ca2"
      },
      "execution_count": 6,
      "outputs": [
        {
          "output_type": "stream",
          "name": "stdout",
          "text": [
            "Enter base2\n",
            "Enter power3\n",
            "8\n"
          ]
        }
      ]
    },
    {
      "cell_type": "code",
      "source": [
        "def positive():\n",
        "  num=int(input(\"Enter a number\"))\n",
        "  s=0\n",
        "  for i in range(num):\n",
        "    s=s+i**3\n",
        "  return s\n",
        "print(positive())"
      ],
      "metadata": {
        "colab": {
          "base_uri": "https://localhost:8080/"
        },
        "id": "Ceju9hj4eYPu",
        "outputId": "59dce3e8-1f92-4e1c-9b67-e887404d7963"
      },
      "execution_count": 8,
      "outputs": [
        {
          "output_type": "stream",
          "name": "stdout",
          "text": [
            "Enter a number4\n",
            "36\n"
          ]
        }
      ]
    },
    {
      "cell_type": "code",
      "source": [
        "for i in range(1,11):\n",
        "  if i%2==0 and i%5==0:\n",
        "    print(\"FizzBuzz\")\n",
        "  elif i%2==0:\n",
        "    print(\"Fizz\")\n",
        "  elif i%5==0:\n",
        "    print(\"Buzz\")\n",
        "  else:\n",
        "    print(i)\n",
        "\n",
        ""
      ],
      "metadata": {
        "colab": {
          "base_uri": "https://localhost:8080/"
        },
        "id": "_CElDKWvfOQZ",
        "outputId": "c9691484-ac0f-4317-c57e-d54c5860d019"
      },
      "execution_count": 10,
      "outputs": [
        {
          "output_type": "stream",
          "name": "stdout",
          "text": [
            "1\n",
            "Fizz\n",
            "3\n",
            "Fizz\n",
            "Buzz\n",
            "Fizz\n",
            "7\n",
            "Fizz\n",
            "9\n",
            "FizzBuzz\n"
          ]
        }
      ]
    },
    {
      "cell_type": "code",
      "source": [
        "n=int(input(\"How many numbers to be inserted:\"))\n",
        "L=[]\n",
        "for i in range(n):\n",
        "  num=int(input(\"Enter a number\"))\n",
        "  L.append(num)\n",
        "count=0\n",
        "number=L[0]\n",
        "for i in range(len(L)):\n",
        "  c=L.count(L[i])\n",
        "  if c>count:\n",
        "    count=c\n",
        "    number=L[i]\n",
        "print(number)\n"
      ],
      "metadata": {
        "colab": {
          "base_uri": "https://localhost:8080/"
        },
        "id": "56Rt3z41f-Xa",
        "outputId": "12313e46-d354-43a1-c68c-0f5b233cdb25"
      },
      "execution_count": 12,
      "outputs": [
        {
          "output_type": "stream",
          "name": "stdout",
          "text": [
            "How many numbers to be inserted:4\n",
            "Enter a number2\n",
            "Enter a number3\n",
            "Enter a number2\n",
            "Enter a number2\n",
            "2\n"
          ]
        }
      ]
    },
    {
      "cell_type": "code",
      "source": [
        "L=[2,1,3,1]\n",
        "s=0\n",
        "for i in L:\n",
        "  s=s+i**2\n",
        "print(s)"
      ],
      "metadata": {
        "colab": {
          "base_uri": "https://localhost:8080/"
        },
        "id": "wZbJAGDth2-r",
        "outputId": "84fc1012-6926-4c4e-aff1-e80f1f8339f1"
      },
      "execution_count": 13,
      "outputs": [
        {
          "output_type": "stream",
          "name": "stdout",
          "text": [
            "15\n"
          ]
        }
      ]
    },
    {
      "cell_type": "code",
      "source": [
        "for i in range(1,16):\n",
        "  if i%2==0:\n",
        "    print(i,\"-Even\")\n",
        "  else:\n",
        "    print(i,\"-Odd\")"
      ],
      "metadata": {
        "colab": {
          "base_uri": "https://localhost:8080/"
        },
        "id": "uJvfkk3Ih3DR",
        "outputId": "e17fbe53-6a5c-4769-b14e-076ba4407ea0"
      },
      "execution_count": 15,
      "outputs": [
        {
          "output_type": "stream",
          "name": "stdout",
          "text": [
            "1 -Odd\n",
            "2 -Even\n",
            "3 -Odd\n",
            "4 -Even\n",
            "5 -Odd\n",
            "6 -Even\n",
            "7 -Odd\n",
            "8 -Even\n",
            "9 -Odd\n",
            "10 -Even\n",
            "11 -Odd\n",
            "12 -Even\n",
            "13 -Odd\n",
            "14 -Even\n",
            "15 -Odd\n"
          ]
        }
      ]
    },
    {
      "cell_type": "code",
      "source": [
        "temp=int(input(\"Enter temperature\"))\n",
        "unit=input(\"Enter unit(C for celsius and F for Farenheit):\")\n",
        "if unit==\"C\":\n",
        "  F=(temp* 9/5) + 32.\n",
        "  print(\"temperature in Farenheit\",F)\n",
        "else:\n",
        "  C = (temp - 32) * 5/9;\n",
        "  print(\"temperature in Celsius\",C)\n",
        "\n",
        "\n"
      ],
      "metadata": {
        "colab": {
          "base_uri": "https://localhost:8080/"
        },
        "id": "2_pqTRgni3Hs",
        "outputId": "8d357794-8a56-469d-8f00-67be27078469"
      },
      "execution_count": 22,
      "outputs": [
        {
          "output_type": "stream",
          "name": "stdout",
          "text": [
            "Enter temperature32\n",
            "Enter unit(C for celsius and F for Farenheit):F\n",
            "temperature in Celsius 0.0\n"
          ]
        }
      ]
    },
    {
      "cell_type": "code",
      "source": [
        "def factorial(num):\n",
        "  f=1\n",
        "  for i in range(1,num+1):\n",
        "    f=f*i\n",
        "  print(f)\n",
        "num=int(input(\"Enter a number:\"))\n",
        "factorial(num)"
      ],
      "metadata": {
        "colab": {
          "base_uri": "https://localhost:8080/"
        },
        "id": "ZwBlcmOUj1o6",
        "outputId": "d091fab8-4688-4e55-b9db-d58216cbfeb4"
      },
      "execution_count": 23,
      "outputs": [
        {
          "output_type": "stream",
          "name": "stdout",
          "text": [
            "Enter a number:3\n",
            "6\n"
          ]
        }
      ]
    }
  ]
}