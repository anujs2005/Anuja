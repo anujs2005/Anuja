{
  "nbformat": 4,
  "nbformat_minor": 0,
  "metadata": {
    "colab": {
      "provenance": [],
      "authorship_tag": "ABX9TyPOTyLU+ddK+e2OHkEYMeU3",
      "include_colab_link": true
    },
    "kernelspec": {
      "name": "python3",
      "display_name": "Python 3"
    },
    "language_info": {
      "name": "python"
    }
  },
  "cells": [
    {
      "cell_type": "markdown",
      "metadata": {
        "id": "view-in-github",
        "colab_type": "text"
      },
      "source": [
        "<a href=\"https://colab.research.google.com/github/anujs2005/Anuja/blob/main/PRACTICE_EXERCISES_ON_PYTHON_BASICS_ANUJA.ipynb\" target=\"_parent\"><img src=\"https://colab.research.google.com/assets/colab-badge.svg\" alt=\"Open In Colab\"/></a>"
      ]
    },
    {
      "cell_type": "code",
      "execution_count": 1,
      "metadata": {
        "colab": {
          "base_uri": "https://localhost:8080/"
        },
        "id": "1k5MUHucyiRi",
        "outputId": "87ad322e-2ca9-4b6a-e6b7-594b4bf3d95e"
      },
      "outputs": [
        {
          "output_type": "stream",
          "name": "stdout",
          "text": [
            "enter radius10\n",
            "Area of the circle: 314.0\n"
          ]
        }
      ],
      "source": [
        "radius=int(input(\"enter radius\"))\n",
        "Area=3.14*radius*radius\n",
        "print(\"Area of the circle:\",Area)"
      ]
    },
    {
      "cell_type": "code",
      "source": [
        "name=input(\"Enter Name:\")\n",
        "roll_no=int(input(\"Enter Roll No:\"))\n",
        "marks=int(input(\"Enter marks:\"))\n",
        "print(\"Name:\",name)\n",
        "print(\"Roll No:\",roll_no)\n",
        "print(\"Mark\",marks)"
      ],
      "metadata": {
        "colab": {
          "base_uri": "https://localhost:8080/"
        },
        "id": "SU3R8TcVzJbK",
        "outputId": "36ef0380-eba0-499f-9af1-994a13eb66ac"
      },
      "execution_count": 2,
      "outputs": [
        {
          "output_type": "stream",
          "name": "stdout",
          "text": [
            "Enter Name:Anuja\n",
            "Enter Roll No:1001\n",
            "Enter marks:99\n",
            "Name: Anuja\n",
            "Roll No: 1001\n",
            "Mark 99\n"
          ]
        }
      ]
    },
    {
      "cell_type": "code",
      "source": [
        "L=[12,3,47,10]\n",
        "largest=0\n",
        "for i in L:\n",
        "  if i>largest:\n",
        "    largest=i\n",
        "print(\"the largest number:\",largest)"
      ],
      "metadata": {
        "colab": {
          "base_uri": "https://localhost:8080/"
        },
        "id": "dSJH6ke4zqBs",
        "outputId": "f04aae76-6ff1-4480-b5bc-e915a2831ecd"
      },
      "execution_count": 3,
      "outputs": [
        {
          "output_type": "stream",
          "name": "stdout",
          "text": [
            "the largest number: 47\n"
          ]
        }
      ]
    },
    {
      "cell_type": "code",
      "source": [
        "n=int(input(\"How many elements to be enetered\"))\n",
        "L=[]\n",
        "for i in range(n):\n",
        "  num=int(input(\"Enter a number:\"))\n",
        "  if num%5==0:\n",
        "    L.append(num)\n",
        "for i in L:\n",
        "  print(i,end=\" \")\n",
        ""
      ],
      "metadata": {
        "colab": {
          "base_uri": "https://localhost:8080/"
        },
        "id": "U-DHBk76110o",
        "outputId": "2abd62e1-17a7-4d45-8ed8-9a28d3629008"
      },
      "execution_count": 17,
      "outputs": [
        {
          "output_type": "stream",
          "name": "stdout",
          "text": [
            "How many elements to be enetered5\n",
            "Enter a number:10\n",
            "Enter a number:24\n",
            "Enter a number:15\n",
            "Enter a number:45\n",
            "Enter a number:60\n",
            "10 15 45 60 "
          ]
        }
      ]
    },
    {
      "cell_type": "code",
      "source": [
        "n=int(input(\"Enter a number:\"))\n",
        "flag=False\n",
        "if n==1:\n",
        "  print(\"1 is not a prime number\")\n",
        "else:\n",
        "  for i in range(2,n):\n",
        "    if n%i==0:\n",
        "      flag=True\n",
        "      break\n",
        "if flag==True:\n",
        "  print(n,\"is not a prime number\")\n",
        "else:\n",
        "  print(n,\"is a prime number\")"
      ],
      "metadata": {
        "colab": {
          "base_uri": "https://localhost:8080/"
        },
        "id": "nyH8tUeg4Kne",
        "outputId": "9c69cd56-dd15-46fa-9af8-b1d829c50ef7"
      },
      "execution_count": 21,
      "outputs": [
        {
          "output_type": "stream",
          "name": "stdout",
          "text": [
            "Enter a number:15\n",
            "15 is not a prime number\n"
          ]
        }
      ]
    },
    {
      "cell_type": "code",
      "source": [
        "L=[10,40,30,70]\n",
        "L1=[]\n",
        "for i in range(-1,-len(L)-1,-1):\n",
        "  L1.append(L[i])\n",
        "print(L1)\n"
      ],
      "metadata": {
        "colab": {
          "base_uri": "https://localhost:8080/"
        },
        "id": "kdOqyFxc648Y",
        "outputId": "c98da1ff-d7fa-4035-8a2f-067ab7c8ec4c"
      },
      "execution_count": 28,
      "outputs": [
        {
          "output_type": "stream",
          "name": "stdout",
          "text": [
            "[70, 30, 40, 10]\n"
          ]
        }
      ]
    },
    {
      "cell_type": "code",
      "source": [
        "n=int(input(\"Enter no. of rows:\"))\n",
        "for i in range(1,n):\n",
        "  for j in range(i):\n",
        "    print(\"*\",end=\"\")\n",
        "  print()\n"
      ],
      "metadata": {
        "colab": {
          "base_uri": "https://localhost:8080/"
        },
        "id": "voym51YU7tdb",
        "outputId": "d0268395-661e-4411-e3cb-f34666d7425c"
      },
      "execution_count": 32,
      "outputs": [
        {
          "output_type": "stream",
          "name": "stdout",
          "text": [
            "Enter no. of rows:5\n",
            "*\n",
            "**\n",
            "***\n",
            "****\n"
          ]
        }
      ]
    },
    {
      "cell_type": "code",
      "source": [
        "max=0\n",
        "for i in range(3):\n",
        "    n=int(input(\"Enter a number\"))\n",
        "    if n>max:\n",
        "      max=n\n",
        "print(\"the largest number:\",max)"
      ],
      "metadata": {
        "colab": {
          "base_uri": "https://localhost:8080/"
        },
        "id": "3zdraKQu8bf-",
        "outputId": "1d244818-e56a-41cc-f347-589c1364f176"
      },
      "execution_count": 35,
      "outputs": [
        {
          "output_type": "stream",
          "name": "stdout",
          "text": [
            "Enter a number10\n",
            "Enter a number34\n",
            "Enter a number5\n",
            "the largest number: 34\n"
          ]
        }
      ]
    },
    {
      "cell_type": "code",
      "source": [
        "n=int(input(\"Enter no. of rows\"))\n",
        "for i in range(1,n):\n",
        "  for j in range(i):\n",
        "    print(\"*\",end=\"\")\n",
        "  print()\n",
        "for i in range(n,0,-1):\n",
        "  for j in range(0, i - 1):\n",
        "        print(\"*\", end=\"\")\n",
        "  print()"
      ],
      "metadata": {
        "colab": {
          "base_uri": "https://localhost:8080/"
        },
        "id": "KLXRMUCs9BfN",
        "outputId": "203c059f-c4cf-4c24-8243-9e75cbe1cad0"
      },
      "execution_count": 38,
      "outputs": [
        {
          "output_type": "stream",
          "name": "stdout",
          "text": [
            "Enter no. of rows5\n",
            "*\n",
            "**\n",
            "***\n",
            "****\n",
            "****\n",
            "***\n",
            "**\n",
            "*\n",
            "\n"
          ]
        }
      ]
    }
  ]
}